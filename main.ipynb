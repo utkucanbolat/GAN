{
 "cells": [
  {
   "cell_type": "code",
   "execution_count": null,
   "metadata": {},
   "outputs": [],
   "source": [
    "import numpy as np\n",
    "import matplotlib.pyplot as plt\n",
    "from time import time\n",
    "\n",
    "import torch\n",
    "from torch import nn\n",
    "from torch.utils.data import DataLoader\n",
    "\n",
    "from torchvision import datasets, transforms\n",
    "from torchvision.utils import save_image, make_grid"
   ]
  },
  {
   "cell_type": "code",
   "execution_count": null,
   "metadata": {},
   "outputs": [],
   "source": [
    "device = torch.device(\"cuda:0\" if torch.cuda.is_available() else \"cpu\")"
   ]
  },
  {
   "cell_type": "code",
   "execution_count": null,
   "metadata": {},
   "outputs": [],
   "source": [
    "train_data = datasets.MNIST(root='../Data',  \n",
    "                            train=True, \n",
    "                            download=True, \n",
    "                            transform=transforms.ToTensor()\n",
    "                           )"
   ]
  },
  {
   "cell_type": "code",
   "execution_count": null,
   "metadata": {},
   "outputs": [],
   "source": [
    "# Hyperparameters\n",
    "hparam = {\"num_epochs\" : 100, # Number of training epochs\n",
    "          \"batch_size\" : 60,\n",
    "          \"latent_size\" : 100,  # Size of z latent vector (i.e. size of generator input)    \n",
    "          \"lr\" : 0.0001,  # Learning rate for optimizer\n",
    "          \"b1\" : 0.9,\n",
    "          \"b2\" : 0.999,\n",
    "         }"
   ]
  },
  {
   "cell_type": "code",
   "execution_count": null,
   "metadata": {},
   "outputs": [],
   "source": [
    "dataloader = DataLoader(train_data, \n",
    "                        batch_size=hparam[\"batch_size\"], \n",
    "                        shuffle=True)"
   ]
  },
  {
   "cell_type": "code",
   "execution_count": null,
   "metadata": {},
   "outputs": [],
   "source": [
    "im, _ = next(iter(dataloader))\n",
    "plt.imshow(im[0].numpy().reshape(28, 28), cmap=\"gray\")\n",
    "plt.show()"
   ]
  },
  {
   "cell_type": "code",
   "execution_count": null,
   "metadata": {},
   "outputs": [],
   "source": [
    "class Generator(nn.Module):\n",
    "    def __init__(self, latent_size=hparam[\"latent_size\"], batch_size=hparam[\"batch_size\"]):\n",
    "        super().__init__()\n",
    "        \n",
    "        self.batch_size = batch_size\n",
    "        \n",
    "        self.model = nn.Sequential(\n",
    "            nn.Linear(latent_size, 128),\n",
    "            nn.BatchNorm1d(128, 0.1),\n",
    "            nn.ReLU(),\n",
    "            nn.Linear(128, 256),\n",
    "            nn.BatchNorm1d(256, 0.1),\n",
    "            nn.ReLU(),\n",
    "            nn.Linear(256, 512),\n",
    "            nn.BatchNorm1d(512, 0.1),\n",
    "            nn.ReLU(),\n",
    "            nn.Linear(512, 28*28),\n",
    "        )\n",
    "        \n",
    "    def forward(self, z):\n",
    "        img = self.model(z)\n",
    "        return img.view(self.batch_size, 1, 28, 28)"
   ]
  },
  {
   "cell_type": "code",
   "execution_count": null,
   "metadata": {},
   "outputs": [],
   "source": [
    "class Discriminator(nn.Module):\n",
    "    def __init__(self, latent_size=hparam[\"latent_size\"], batch_size=hparam[\"batch_size\"]):\n",
    "        super().__init__()\n",
    "        \n",
    "        self.batch_size = batch_size\n",
    "        \n",
    "        self.model = nn.Sequential(\n",
    "            nn.Linear(28*28, 512),\n",
    "            nn.BatchNorm1d(512, 0.1),\n",
    "            nn.ReLU(),\n",
    "            nn.Linear(512, 256),\n",
    "            nn.BatchNorm1d(256, 0.1),\n",
    "            nn.ReLU(),\n",
    "            nn.Linear(256, 128),\n",
    "            nn.BatchNorm1d(128, 0.1),\n",
    "            nn.ReLU(),              \n",
    "            nn.Linear(128, 1),\n",
    "            nn.Sigmoid()\n",
    "        )\n",
    "            \n",
    "    def forward(self, z):\n",
    "        img_flat = z.view(self.batch_size, -1)\n",
    "        return self.model(img_flat)"
   ]
  },
  {
   "cell_type": "code",
   "execution_count": null,
   "metadata": {},
   "outputs": [],
   "source": [
    "# Define Models\n",
    "gen_net = Generator().to(device)\n",
    "dis_net = Discriminator().to(device)"
   ]
  },
  {
   "cell_type": "code",
   "execution_count": null,
   "metadata": {},
   "outputs": [],
   "source": [
    "# Initialize Models\n",
    "def init_weights(m):\n",
    "    classname = m.__class__.__name__\n",
    "    if type(m) == nn.Linear:\n",
    "        nn.init.normal_(m.weight.data, 0.0, 0.02)\n",
    "    elif type(m) == nn.BatchNorm1d:\n",
    "        nn.init.normal_(m.weight.data, 1.0, 0.02)\n",
    "        nn.init.constant_(m.bias.data, 0)\n",
    "\n",
    "gen_net.apply(init_weights)\n",
    "dis_net.apply(init_weights)"
   ]
  },
  {
   "cell_type": "code",
   "execution_count": null,
   "metadata": {},
   "outputs": [],
   "source": [
    "criterion = nn.BCELoss().to(device)"
   ]
  },
  {
   "cell_type": "code",
   "execution_count": null,
   "metadata": {},
   "outputs": [],
   "source": [
    "gen_optimizer = torch.optim.Adam(gen_net.parameters(), lr=hparam[\"lr\"], betas=(hparam[\"b1\"], hparam[\"b2\"]))\n",
    "dis_optimizer = torch.optim.Adam(dis_net.parameters(), lr=hparam[\"lr\"], betas=(hparam[\"b1\"], hparam[\"b2\"]))"
   ]
  },
  {
   "cell_type": "code",
   "execution_count": null,
   "metadata": {},
   "outputs": [],
   "source": [
    "true_label = torch.ones((hparam[\"batch_size\"], 1), requires_grad=False).to(device)\n",
    "false_label = torch.zeros((hparam[\"batch_size\"], 1), requires_grad=False).to(device)\n",
    "\n",
    "t1 = time()\n",
    "dis_losses = []\n",
    "gen_losses = []\n",
    "\n",
    "k = 0\n",
    "for epoch in range(hparam[\"num_epochs\"]):\n",
    "    for i, (data, _) in enumerate(dataloader):\n",
    "        data = data.to(device)\n",
    "        \n",
    "        #  ----------------------------------\n",
    "        #  Train Generator\n",
    "        #  ----------------------------------\n",
    "\n",
    "        gen_optimizer.zero_grad()\n",
    "\n",
    "        # Sample noise\n",
    "        z = torch.Tensor(np.random.uniform(0, 1, size=(hparam[\"batch_size\"], hparam[\"latent_size\"]))).to(device)\n",
    "        \n",
    "        \n",
    "        # Generated data\n",
    "        gen_data = gen_net(z)       \n",
    "        generator_loss = criterion(dis_net(gen_data), true_label)\n",
    "        generator_loss.backward(retain_graph=True)\n",
    "        gen_optimizer.step()\n",
    "     \n",
    "        #  ----------------------------------\n",
    "        #  Train Discriminator\n",
    "        #  ----------------------------------\n",
    "\n",
    "        dis_optimizer.zero_grad()\n",
    "\n",
    "        real_loss = criterion(dis_net(data), true_label)\n",
    "        fake_loss = criterion(dis_net(gen_data.detach()), false_label) # detach is extremely important\n",
    "        discriminator_loss = (real_loss + fake_loss)\n",
    "\n",
    "        discriminator_loss.backward()\n",
    "        dis_optimizer.step()\n",
    "\n",
    "        #  -----------------------------------------------------------------\n",
    "        \n",
    "        if i % 250 == 0:          \n",
    "            print(\n",
    "                \"[Epoch %d/%d]\\t [Batch %d/%d]\\t [Dis loss: %f]\\t [Gen loss: %f]\"\n",
    "                % (epoch, hparam[\"num_epochs\"], i, len(dataloader) , discriminator_loss.item(), generator_loss.item()))\n",
    "            \n",
    "        \n",
    "            dis_losses.append(discriminator_loss.item())\n",
    "            gen_losses.append(generator_loss.item())\n",
    "            \n",
    "        if i % 250 == 0:\n",
    "            save_image(gen_data.data[:36], \"generated_images/im\" + str(k) + \".png\", nrow=6)\n",
    "            \n",
    "            \n",
    "            fig, axs = plt.subplots(2)\n",
    "            plt.subplots_adjust(hspace=1)\n",
    "            \n",
    "            xaxis = [250*i for i in range(k+1)]\n",
    "            \n",
    "            axs[0].plot(xaxis, np.array(dis_losses))\n",
    "            axs[0].set_title(\"Discriminator Loss\")\n",
    "            axs[0].set_xlabel(\"Number of Iterations\")\n",
    "            axs[0].set_ylabel(\"Loss\")\n",
    "            axs[0].grid(True)\n",
    "\n",
    "            axs[1].plot(xaxis, np.array(gen_losses))\n",
    "            axs[1].set_title(\"Generator Loss\")\n",
    "            axs[1].set_xlabel(\"Number of Iterations\")\n",
    "            axs[1].set_ylabel(\"Loss\")\n",
    "\n",
    "            axs[1].grid(True)\n",
    "            plt.savefig(\"loss_images/loss\"+ str(k) +\".png\", dpi=300)\n",
    "            \n",
    "            \n",
    "            fig.show(False)\n",
    "            plt.close('all')\n",
    "            \n",
    "            k += 1\n",
    "            \n",
    "print(\"\\nTraining Time: \" + str(time()-t1))"
   ]
  }
 ],
 "metadata": {
  "kernelspec": {
   "display_name": "Python 3",
   "language": "python",
   "name": "python3"
  },
  "language_info": {
   "codemirror_mode": {
    "name": "ipython",
    "version": 3
   },
   "file_extension": ".py",
   "mimetype": "text/x-python",
   "name": "python",
   "nbconvert_exporter": "python",
   "pygments_lexer": "ipython3",
   "version": "3.8.1"
  }
 },
 "nbformat": 4,
 "nbformat_minor": 4
}
